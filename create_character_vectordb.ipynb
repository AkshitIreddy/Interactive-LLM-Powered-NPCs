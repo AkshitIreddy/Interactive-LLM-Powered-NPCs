{
 "cells": [
  {
   "attachments": {},
   "cell_type": "markdown",
   "metadata": {},
   "source": [
    "### Create Character Vector Database"
   ]
  },
  {
   "cell_type": "code",
   "execution_count": 3,
   "metadata": {},
   "outputs": [],
   "source": [
    "from langchain.text_splitter import RecursiveCharacterTextSplitter\n",
    "from langchain.embeddings import CohereEmbeddings\n",
    "import json\n",
    "import random\n",
    "from langchain.vectorstores import Chroma\n",
    "\n",
    "# Set the game name and character name\n",
    "game_name = 'Cyberpunk_2077'\n",
    "character_name = 'Johnny_Silverhand'\n",
    "\n",
    "# Load the file\n",
    "with open(f'{game_name}/characters/{character_name}/character_knowledge.txt', errors='ignore') as f:\n",
    "    public_info = f.read()\n",
    "\n",
    "# Create Text Splitter, Chunk size is number of characters in each item of the list \n",
    "# While chunk overlap is how many characters from the previous item should be repeated in the next item \n",
    "text_splitter = RecursiveCharacterTextSplitter(\n",
    "    chunk_size = 600,\n",
    "    chunk_overlap  = 0,\n",
    "    length_function = len,\n",
    "    separators = ['\\n\\n\\n', '\\n\\n', '\\n', '.', ',', ' ']\n",
    ")\n",
    "\n",
    "# Split the text \n",
    "public_info_list = text_splitter.split_text(public_info)\n",
    "\n",
    "# Randomly select an API key\n",
    "selected_key = json.load(open('apikeys.json', 'r'))['api_keys'][random.randint(\n",
    "    0, len(json.load(open('apikeys.json', 'r'))['api_keys'])-1)]\n",
    "\n",
    "# Initialise the embedding model\n",
    "embeddings = CohereEmbeddings(cohere_api_key=selected_key)\n",
    "\n",
    "# Path must be inside the character folder in the game folder with the name vectordb\n",
    "persist_directory = f'{game_name}/characters/{character_name}/vectordb'\n",
    "\n",
    "# Create the Vector Database\n",
    "vectordb = Chroma.from_texts(public_info_list, embeddings, persist_directory=persist_directory)\n",
    "vectordb.persist()"
   ]
  },
  {
   "attachments": {},
   "cell_type": "markdown",
   "metadata": {},
   "source": [
    "### Test the Vector Database"
   ]
  },
  {
   "cell_type": "code",
   "execution_count": 2,
   "metadata": {},
   "outputs": [
    {
     "name": "stdout",
     "output_type": "stream",
     "text": [
      "Rogue was a rebellious teen, knew stiff hierarchy of gang life was not for her and set out on her own, to become a solo. She was a new and successful mercenary in Night City. Rogue also began a relationship with hit rockerboy sensation Johnny Silverhand. Rogue on occasion asked Johnny if they could visit a drive-in theatre on a date, which went largely ignored.\n",
      "\n",
      "Her relationship with Johnny ended at some point in 2011,[5] after Rogue found out about Johnny cheating on her.[6]\n",
      "Rogue's relationship with Johnny ended at some point in 2011,[12] after she found out about Johnny cheating on her.[13]\n",
      "\n",
      "After giving a concert at The Hammer on August 4th in 2013, Johnny went on a walk with Alt Cunningham, his former girlfriend, but were ambushed by thugs hired by Arasaka. The thugs injured Johnny, kidnapped Alt and took off in a van. Arasaka wanted her to develop a new variant of the Soulkiller software she had written for ITS.[13]\n",
      "In 2013, Rogue and her partner, Nomad Santiago were mercs, being reputed to be the best at the time. During a meeting between the two of them in the Atlantis Club, Johnny Silverhand interrupted them by entering the room to ask for their help in raiding Arasaka to save his girlfriend Alt Cunningham. While Rogue was still held a sour spot for Johnny, she ended up agreeing along with Santiago for nothing more than to give it to the corporations. The two participated in Silverhand's raid on Arasaka Tower to recover Alt and the Soulkiller program alongside a media known as Thompson, but the raid e\n"
     ]
    }
   ],
   "source": [
    "# search for a topic and see if you get relevant information, k is for number of similar items to return\n",
    "docs = vectordb.similarity_search(\"Rogue\", k = 3)\n",
    "similar_story_string = \"\\n\".join(doc.page_content for doc in docs)\n",
    "print(similar_story_string)"
   ]
  },
  {
   "attachments": {},
   "cell_type": "markdown",
   "metadata": {},
   "source": [
    "### To add text to existing vector database \n",
    "#### (Optional, only if you want to add something that was not previously there in the above text file)"
   ]
  },
  {
   "cell_type": "code",
   "execution_count": null,
   "metadata": {},
   "outputs": [],
   "source": [
    "# from langchain.embeddings import CohereEmbeddings\n",
    "# import json\n",
    "# import random\n",
    "# from langchain.vectorstores import Chroma\n",
    "\n",
    "#selected_key = json.load(open('apikeys.json', 'r'))['api_keys'][random.randint(\n",
    "#    0, len(json.load(open('apikeys.json', 'r'))['api_keys'])-1)]\n",
    "#embeddings = CohereEmbeddings(cohere_api_key=selected_key)\n",
    "#persist_directory = 'Cyberpunk_2077/characters/Jackie_Welles/vectordb'\n",
    "#vectordb = Chroma(persist_directory=persist_directory, embedding_function=embeddings)\n",
    "#vectordb.add_texts([\"pineapples are yummy\", \"tomatoes are evil\"])\n",
    "#vectordb.persist()"
   ]
  },
  {
   "attachments": {},
   "cell_type": "markdown",
   "metadata": {},
   "source": [
    "#### To delete vectordb entirely, delete the public_vectordb folder inside the game folder"
   ]
  },
  {
   "cell_type": "code",
   "execution_count": null,
   "metadata": {},
   "outputs": [],
   "source": [
    "import shutil\n",
    "# path to vectordb inside your character\n",
    "folder_path = 'Some_game/characters/Some_character/vectordb'\n",
    "shutil.rmtree(folder_path)"
   ]
  }
 ],
 "metadata": {
  "kernelspec": {
   "display_name": ".venv",
   "language": "python",
   "name": "python3"
  },
  "language_info": {
   "codemirror_mode": {
    "name": "ipython",
    "version": 3
   },
   "file_extension": ".py",
   "mimetype": "text/x-python",
   "name": "python",
   "nbconvert_exporter": "python",
   "pygments_lexer": "ipython3",
   "version": "3.10.6"
  },
  "orig_nbformat": 4
 },
 "nbformat": 4,
 "nbformat_minor": 2
}
