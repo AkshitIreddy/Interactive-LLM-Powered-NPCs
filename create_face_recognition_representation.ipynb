{
 "cells": [
  {
   "attachments": {},
   "cell_type": "markdown",
   "metadata": {},
   "source": [
    "### Place 5 images in the Game/characters/character_name/images folder from 1.jpg to 5.jpg and one image in root directory named as test.jpg"
   ]
  },
  {
   "cell_type": "code",
   "execution_count": 1,
   "metadata": {},
   "outputs": [
    {
     "name": "stderr",
     "output_type": "stream",
     "text": [
      "Finding representations: 100%|██████████| 5/5 [00:10<00:00,  2.14s/it]\n"
     ]
    },
    {
     "name": "stdout",
     "output_type": "stream",
     "text": [
      "Representations stored in Cyberpunk_2077/characters/Johnny_Silverhand/images/representations_facenet512.pkl file.Please delete this file when you add new identities in your database.\n",
      "find function lasts  10.94593071937561  seconds\n"
     ]
    }
   ],
   "source": [
    "from deepface import DeepFace\n",
    "\n",
    "# Set the game name and character name\n",
    "game_name = 'Cyberpunk_2077'\n",
    "character_name = 'Johnny_Silverhand'\n",
    "\n",
    "dfs = DeepFace.find(img_path = \"test.jpg\", db_path = f\"{game_name}/characters/{character_name}/images\", model_name='Facenet512')"
   ]
  },
  {
   "cell_type": "code",
   "execution_count": 2,
   "metadata": {},
   "outputs": [
    {
     "name": "stdout",
     "output_type": "stream",
     "text": [
      "Best Image path: Cyberpunk_2077/characters/Johnny_Silverhand/images/1.jpg\n",
      "Best Facenet512_cosine score: 0.23213597049534695\n"
     ]
    },
    {
     "data": {
      "text/html": [
       "<div>\n",
       "<style scoped>\n",
       "    .dataframe tbody tr th:only-of-type {\n",
       "        vertical-align: middle;\n",
       "    }\n",
       "\n",
       "    .dataframe tbody tr th {\n",
       "        vertical-align: top;\n",
       "    }\n",
       "\n",
       "    .dataframe thead th {\n",
       "        text-align: right;\n",
       "    }\n",
       "</style>\n",
       "<table border=\"1\" class=\"dataframe\">\n",
       "  <thead>\n",
       "    <tr style=\"text-align: right;\">\n",
       "      <th></th>\n",
       "      <th>identity</th>\n",
       "      <th>source_x</th>\n",
       "      <th>source_y</th>\n",
       "      <th>source_w</th>\n",
       "      <th>source_h</th>\n",
       "      <th>Facenet512_cosine</th>\n",
       "    </tr>\n",
       "  </thead>\n",
       "  <tbody>\n",
       "    <tr>\n",
       "      <th>0</th>\n",
       "      <td>Cyberpunk_2077/characters/Johnny_Silverhand/im...</td>\n",
       "      <td>331</td>\n",
       "      <td>26</td>\n",
       "      <td>130</td>\n",
       "      <td>130</td>\n",
       "      <td>0.232136</td>\n",
       "    </tr>\n",
       "  </tbody>\n",
       "</table>\n",
       "</div>"
      ],
      "text/plain": [
       "                                            identity  source_x  source_y  \\\n",
       "0  Cyberpunk_2077/characters/Johnny_Silverhand/im...       331        26   \n",
       "\n",
       "   source_w  source_h  Facenet512_cosine  \n",
       "0       130       130           0.232136  "
      ]
     },
     "execution_count": 2,
     "metadata": {},
     "output_type": "execute_result"
    }
   ],
   "source": [
    "print(\"Best Image path:\", dfs[0]['identity'][0])\n",
    "print(\"Best Facenet512_cosine score:\", dfs[0]['Facenet512_cosine'][0])\n",
    "dfs[0]"
   ]
  }
 ],
 "metadata": {
  "kernelspec": {
   "display_name": ".venv",
   "language": "python",
   "name": "python3"
  },
  "language_info": {
   "codemirror_mode": {
    "name": "ipython",
    "version": 3
   },
   "file_extension": ".py",
   "mimetype": "text/x-python",
   "name": "python",
   "nbconvert_exporter": "python",
   "pygments_lexer": "ipython3",
   "version": "3.10.6"
  },
  "orig_nbformat": 4
 },
 "nbformat": 4,
 "nbformat_minor": 2
}
